{
 "cells": [
  {
   "cell_type": "markdown",
   "metadata": {},
   "source": [
    "This Python script utilizes the requests library to validate the validity of an OpenAI API key. It checks the key by making a request to the OpenAI API endpoint for models and verifies if the response indicates any errors. The OpenAI API key is securely loaded from the environment using the dotenv library, ensuring the confidentiality of sensitive information."
   ]
  },
  {
   "cell_type": "code",
   "execution_count": 8,
   "metadata": {},
   "outputs": [
    {
     "data": {
      "text/plain": [
       "True"
      ]
     },
     "execution_count": 8,
     "metadata": {},
     "output_type": "execute_result"
    }
   ],
   "source": [
    "import requests\n",
    "import os\n",
    "from dotenv import load_dotenv\n",
    "\n",
    "load_dotenv()\n",
    "openai_api_key = os.getenv(\"OPENAI_API_KEY\") # from .env file\n",
    "\n",
    "def is_openai_key_valid(openai_key):\n",
    "    url = \"https://api.openai.com/v1/models\"\n",
    "    headers = {\n",
    "        \"Authorization\": f\"Bearer {openai_key}\"\n",
    "    }\n",
    "    response = requests.get(url, headers=headers)\n",
    "\n",
    "    data = response.json()\n",
    "    if \"model\" in data and \"error\" in data[\"model\"]:\n",
    "        return False\n",
    "    return True\n",
    "\n",
    "is_openai_key_valid(openai_api_key)"
   ]
  },
  {
   "cell_type": "markdown",
   "metadata": {},
   "source": [
    "End"
   ]
  }
 ],
 "metadata": {
  "kernelspec": {
   "display_name": "Python 3",
   "language": "python",
   "name": "python3"
  },
  "language_info": {
   "codemirror_mode": {
    "name": "ipython",
    "version": 3
   },
   "file_extension": ".py",
   "mimetype": "text/x-python",
   "name": "python",
   "nbconvert_exporter": "python",
   "pygments_lexer": "ipython3",
   "version": "3.10.11"
  }
 },
 "nbformat": 4,
 "nbformat_minor": 2
}
